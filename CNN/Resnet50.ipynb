{
 "cells": [
  {
   "cell_type": "code",
   "execution_count": 1,
   "id": "sought-tunisia",
   "metadata": {},
   "outputs": [
    {
     "name": "stderr",
     "output_type": "stream",
     "text": [
      "Using TensorFlow backend.\n"
     ]
    }
   ],
   "source": [
    "import numpy as np\n",
    "import pandas as pd\n",
    "import matplotlib.pyplot as plt\n",
    "import keras\n",
    "from keras.preprocessing.image import ImageDataGenerator\n",
    "import os\n",
    "import shutil\n",
    "\n",
    "from PIL import Image\n",
    "from keras.applications import ResNet50\n",
    "from keras.layers import Input"
   ]
  },
  {
   "cell_type": "code",
   "execution_count": 2,
   "id": "exact-channels",
   "metadata": {},
   "outputs": [],
   "source": [
    "from keras import models, layers\n",
    "from keras import Input\n",
    "from keras.models import Model, load_model\n",
    "from keras.preprocessing.image import ImageDataGenerator\n",
    "from keras import optimizers, initializers, regularizers, metrics\n",
    "from keras.callbacks import ModelCheckpoint, EarlyStopping\n",
    "from keras.layers import BatchNormalization, Conv2D, Activation, Dense, GlobalAveragePooling2D, MaxPooling2D, ZeroPadding2D, Add, Flatten"
   ]
  },
  {
   "cell_type": "code",
   "execution_count": 3,
   "id": "fatty-calendar",
   "metadata": {},
   "outputs": [],
   "source": [
    "from PIL import ImageFile\n",
    "ImageFile.LOAD_TRUNCATED_IMAGES = True"
   ]
  },
  {
   "cell_type": "code",
   "execution_count": 4,
   "id": "median-swimming",
   "metadata": {},
   "outputs": [
    {
     "name": "stdout",
     "output_type": "stream",
     "text": [
      "Found 96379 images belonging to 150 classes.\n",
      "Found 24046 images belonging to 150 classes.\n"
     ]
    }
   ],
   "source": [
    "data_generator = ImageDataGenerator(rescale=1./255,\n",
    "                                   validation_split=0.2)\n",
    "\n",
    "train_generator = data_generator.flow_from_directory(\n",
    "    'data/train',\n",
    "    target_size = (224, 224),\n",
    "    batch_size = 128,\n",
    "    class_mode = 'categorical',\n",
    "    subset=\"training\"\n",
    ")\n",
    "\n",
    "valid_generator = data_generator.flow_from_directory(\n",
    "    'data/train',\n",
    "    target_size = (224, 224),\n",
    "    batch_size = 128,\n",
    "    class_mode = 'categorical',\n",
    "    subset=\"validation\"\n",
    ")\n"
   ]
  },
  {
   "cell_type": "code",
   "execution_count": 5,
   "id": "operational-letter",
   "metadata": {},
   "outputs": [
    {
     "name": "stdout",
     "output_type": "stream",
     "text": [
      "Found 30088 images belonging to 150 classes.\n"
     ]
    }
   ],
   "source": [
    "test_generator = data_generator.flow_from_directory(\n",
    "    'data/test',\n",
    "    target_size = (224, 224),\n",
    "    batch_size = 128,\n",
    "    class_mode = 'categorical'\n",
    ")"
   ]
  },
  {
   "cell_type": "code",
   "execution_count": 8,
   "id": "manufactured-selling",
   "metadata": {},
   "outputs": [],
   "source": [
    "pth = \"{epoch:02d}.h5\"\n",
    "\n",
    "cp = ModelCheckpoint(\n",
    "    pth,\n",
    "    save_weights_only=False,\n",
    "    mode = 'auto',\n",
    ")\n",
    "\n",
    "model = ResNet50(weights=None, classes=150, input_shape=(224, 224, 3))\n",
    "\n",
    "model.compile(loss = 'categorical_crossentropy',\n",
    "                optimizer = 'adam',\n",
    "                metrics=['accuracy'])"
   ]
  },
  {
   "cell_type": "code",
   "execution_count": 10,
   "id": "emerging-original",
   "metadata": {},
   "outputs": [
    {
     "name": "stdout",
     "output_type": "stream",
     "text": [
      "Epoch 1/20\n",
      "160/752 [=====>........................] - ETA: 31:22 - loss: 4.6403 - accuracy: 0.0417"
     ]
    },
    {
     "name": "stderr",
     "output_type": "stream",
     "text": [
      "/opt/conda/lib/python3.7/site-packages/PIL/TiffImagePlugin.py:793: UserWarning: Corrupt EXIF data.  Expecting to read 12 bytes but only got 4. \n",
      "  warnings.warn(str(msg))\n"
     ]
    },
    {
     "name": "stdout",
     "output_type": "stream",
     "text": [
      "261/752 [=========>....................] - ETA: 26:12 - loss: 4.4649 - accuracy: 0.0529"
     ]
    },
    {
     "name": "stderr",
     "output_type": "stream",
     "text": [
      "/opt/conda/lib/python3.7/site-packages/PIL/TiffImagePlugin.py:772: UserWarning: Possibly corrupt EXIF data.  Expecting to read 8 bytes but only got 2. Skipping tag 41486\n",
      "  \"Possibly corrupt EXIF data.  \"\n",
      "/opt/conda/lib/python3.7/site-packages/PIL/TiffImagePlugin.py:772: UserWarning: Possibly corrupt EXIF data.  Expecting to read 8 bytes but only got 0. Skipping tag 41487\n",
      "  \"Possibly corrupt EXIF data.  \"\n"
     ]
    },
    {
     "name": "stdout",
     "output_type": "stream",
     "text": [
      "472/752 [=================>............] - ETA: 14:54 - loss: 4.2123 - accuracy: 0.0784"
     ]
    },
    {
     "name": "stderr",
     "output_type": "stream",
     "text": [
      "/opt/conda/lib/python3.7/site-packages/PIL/TiffImagePlugin.py:772: UserWarning: Possibly corrupt EXIF data.  Expecting to read 20 bytes but only got 6. Skipping tag 272\n",
      "  \"Possibly corrupt EXIF data.  \"\n"
     ]
    },
    {
     "name": "stdout",
     "output_type": "stream",
     "text": [
      "524/752 [===================>..........] - ETA: 12:05 - loss: 4.1591 - accuracy: 0.0847"
     ]
    },
    {
     "name": "stderr",
     "output_type": "stream",
     "text": [
      "/opt/conda/lib/python3.7/site-packages/PIL/TiffImagePlugin.py:772: UserWarning: Possibly corrupt EXIF data.  Expecting to read 1078 bytes but only got 0. Skipping tag 37500\n",
      "  \"Possibly corrupt EXIF data.  \"\n"
     ]
    },
    {
     "name": "stdout",
     "output_type": "stream",
     "text": [
      "753/752 [==============================] - ETA: 0s - loss: 3.9465 - accuracy: 0.1124"
     ]
    },
    {
     "name": "stderr",
     "output_type": "stream",
     "text": [
      "/opt/conda/lib/python3.7/site-packages/PIL/TiffImagePlugin.py:772: UserWarning: Possibly corrupt EXIF data.  Expecting to read 8 bytes but only got 2. Skipping tag 37386\n",
      "  \"Possibly corrupt EXIF data.  \"\n",
      "/opt/conda/lib/python3.7/site-packages/PIL/TiffImagePlugin.py:772: UserWarning: Possibly corrupt EXIF data.  Expecting to read 8 bytes but only got 0. Skipping tag 37396\n",
      "  \"Possibly corrupt EXIF data.  \"\n"
     ]
    },
    {
     "name": "stdout",
     "output_type": "stream",
     "text": [
      "752/752 [==============================] - 3124s 4s/step - loss: 3.9465 - accuracy: 0.1124 - val_loss: 5.0338 - val_accuracy: 0.0534\n",
      "Epoch 2/20\n",
      "752/752 [==============================] - 852s 1s/step - loss: 2.8951 - accuracy: 0.2752 - val_loss: 3.7173 - val_accuracy: 0.1772\n",
      "Epoch 3/20\n",
      "752/752 [==============================] - 847s 1s/step - loss: 2.3032 - accuracy: 0.3924 - val_loss: 3.7584 - val_accuracy: 0.2340\n",
      "Epoch 4/20\n",
      "752/752 [==============================] - 846s 1s/step - loss: 1.8790 - accuracy: 0.4917 - val_loss: 2.2213 - val_accuracy: 0.4249\n",
      "Epoch 5/20\n",
      "752/752 [==============================] - 848s 1s/step - loss: 1.5638 - accuracy: 0.5648 - val_loss: 2.2991 - val_accuracy: 0.4239\n",
      "Epoch 6/20\n",
      "752/752 [==============================] - 845s 1s/step - loss: 1.3200 - accuracy: 0.6257 - val_loss: 2.4111 - val_accuracy: 0.4194\n",
      "Epoch 7/20\n",
      "752/752 [==============================] - 846s 1s/step - loss: 1.1206 - accuracy: 0.6744 - val_loss: 2.2660 - val_accuracy: 0.4578\n",
      "Epoch 8/20\n",
      "752/752 [==============================] - 847s 1s/step - loss: 0.9397 - accuracy: 0.7218 - val_loss: 1.8447 - val_accuracy: 0.5301\n",
      "Epoch 9/20\n",
      "752/752 [==============================] - 846s 1s/step - loss: 0.7594 - accuracy: 0.7704 - val_loss: 2.8289 - val_accuracy: 0.4039\n",
      "Epoch 10/20\n",
      "752/752 [==============================] - 849s 1s/step - loss: 0.6070 - accuracy: 0.8109 - val_loss: 2.2095 - val_accuracy: 0.5029\n",
      "Epoch 11/20\n",
      "752/752 [==============================] - 846s 1s/step - loss: 0.4670 - accuracy: 0.8518 - val_loss: 2.5057 - val_accuracy: 0.4773\n",
      "Epoch 12/20\n",
      "752/752 [==============================] - 845s 1s/step - loss: 0.3593 - accuracy: 0.8842 - val_loss: 3.0972 - val_accuracy: 0.4284\n",
      "Epoch 13/20\n",
      "752/752 [==============================] - 847s 1s/step - loss: 0.2913 - accuracy: 0.9058 - val_loss: 2.4068 - val_accuracy: 0.5255\n",
      "Epoch 14/20\n",
      "752/752 [==============================] - 846s 1s/step - loss: 0.2315 - accuracy: 0.9258 - val_loss: 2.8090 - val_accuracy: 0.4901\n",
      "Epoch 15/20\n",
      "752/752 [==============================] - 861s 1s/step - loss: 0.1988 - accuracy: 0.9362 - val_loss: 2.6610 - val_accuracy: 0.5105\n",
      "Epoch 16/20\n",
      "752/752 [==============================] - 856s 1s/step - loss: 0.1761 - accuracy: 0.9427 - val_loss: 2.7901 - val_accuracy: 0.5048\n",
      "Epoch 17/20\n",
      "752/752 [==============================] - 846s 1s/step - loss: 0.1602 - accuracy: 0.9490 - val_loss: 2.8453 - val_accuracy: 0.5320\n",
      "Epoch 18/20\n",
      "752/752 [==============================] - 851s 1s/step - loss: 0.1466 - accuracy: 0.9537 - val_loss: 2.8006 - val_accuracy: 0.5097\n",
      "Epoch 19/20\n",
      "752/752 [==============================] - 849s 1s/step - loss: 0.1394 - accuracy: 0.9560 - val_loss: 3.3785 - val_accuracy: 0.4967\n",
      "Epoch 20/20\n",
      "752/752 [==============================] - 848s 1s/step - loss: 0.1237 - accuracy: 0.9608 - val_loss: 3.6649 - val_accuracy: 0.4330\n"
     ]
    }
   ],
   "source": [
    "hist = model.fit(\n",
    "    train_generator,\n",
    "    validation_data = valid_generator,\n",
    "    steps_per_epoch = 96379/128,\n",
    "    epochs = 20,\n",
    "    callbacks=[cp]\n",
    ")"
   ]
  },
  {
   "cell_type": "code",
   "execution_count": 13,
   "id": "discrete-genesis",
   "metadata": {},
   "outputs": [],
   "source": [
    "import pickle\n",
    "\n",
    "with open('resnet50_train_his1_di', 'wb') as f:\n",
    "    pickle.dump(hist.history, f)"
   ]
  },
  {
   "cell_type": "code",
   "execution_count": 49,
   "id": "african-microwave",
   "metadata": {},
   "outputs": [
    {
     "data": {
      "image/png": "[encoded data removed]",
      "text/plain": [
       "<Figure size 1440x1080 with 2 Axes>"
      ]
     },
     "metadata": {
      "needs_background": "light"
     },
     "output_type": "display_data"
    }
   ],
   "source": [
    "import matplotlib.pyplot as plt\n",
    "\n",
    "fig1, (ax1, ax2) = plt.subplots(2, 1, figsize=(20, 15))\n",
    "\n",
    "ax1.set_title('Loss history')\n",
    "\n",
    "ax1.plot(hist.history['loss'])\n",
    "ax1.plot(hist.history['val_loss'])\n",
    "\n",
    "ax1.set_xlabel('Epoch')\n",
    "ax1.set_ylabel('Loss')\n",
    "\n",
    "ax1.legend(['training', 'validation'])\n",
    "\n",
    "\n",
    "ax2.set_title('Accuracy history')\n",
    "\n",
    "ax2.plot(hist.history['accuracy'])\n",
    "ax2.plot(hist.history['val_accuracy'])\n",
    "\n",
    "ax2.set_xlabel('Epoch')\n",
    "ax2.set_ylabel('Accuracy')\n",
    "\n",
    "ax2.legend(['traning', 'validation'])\n",
    "\n",
    "\n",
    "\n",
    "\n",
    "\n",
    "plt.show()"
   ]
  },
  {
   "cell_type": "code",
   "execution_count": 51,
   "id": "committed-answer",
   "metadata": {
    "scrolled": true
   },
   "outputs": [
    {
     "name": "stdout",
     "output_type": "stream",
     "text": [
      "236/236 [==============================] - 207s 874ms/step - loss: 3.5503 - accuracy: 0.4418\n"
     ]
    }
   ],
   "source": [
    "ev = model.evaluate(test_generator)"
   ]
  },
  {
   "cell_type": "code",
   "execution_count": 100,
   "id": "through-ballot",
   "metadata": {},
   "outputs": [],
   "source": [
    "tx, ty = test_generator.next()\n",
    "tem = np.expand_dims(tx[0], axis=0)\n",
    "tem.shape\n",
    "res = model.predict(tem)"
   ]
  },
  {
   "cell_type": "code",
   "execution_count": 101,
   "id": "loving-minister",
   "metadata": {},
   "outputs": [
    {
     "data": {
      "text/plain": [
       "array([[8.83964724e-09, 2.32818127e-12, 6.46092013e-10, 4.03046260e-12,\n",
       "        7.57184204e-10, 5.78196399e-13, 6.76699568e-14, 6.67791369e-07,\n",
       "        1.64019931e-09, 2.27606517e-10, 3.77550124e-09, 4.09199931e-11,\n",
       "        1.55944133e-10, 5.86986737e-10, 3.52196056e-13, 1.87964777e-09,\n",
       "        1.05102571e-09, 3.05506731e-10, 4.35822323e-10, 9.91709210e-13,\n",
       "        9.15764645e-07, 2.72745188e-10, 1.18749606e-08, 7.52776921e-12,\n",
       "        3.97069311e-09, 1.47850107e-10, 1.08295796e-10, 2.32212671e-09,\n",
       "        9.29531244e-11, 8.04072975e-10, 1.30689039e-13, 5.85827122e-13,\n",
       "        4.13841433e-13, 6.09305118e-07, 3.60076552e-10, 4.66684989e-11,\n",
       "        4.05481387e-06, 7.25259826e-12, 8.74416598e-12, 6.00075267e-10,\n",
       "        8.48762141e-13, 4.79236095e-11, 1.69962438e-12, 2.36852031e-11,\n",
       "        1.00617348e-10, 6.82326515e-08, 6.42428262e-08, 2.91615851e-08,\n",
       "        2.92468516e-09, 1.45376931e-11, 5.68557944e-11, 6.88519658e-11,\n",
       "        1.86069347e-08, 7.53016085e-14, 9.19697385e-08, 1.47968959e-09,\n",
       "        9.00244686e-07, 3.11776906e-12, 1.31779192e-08, 1.37932886e-07,\n",
       "        8.58467430e-09, 1.25569821e-09, 8.88296547e-09, 4.29913416e-06,\n",
       "        1.14852731e-10, 3.06300846e-10, 1.78536042e-09, 2.62024485e-10,\n",
       "        1.57908608e-09, 9.99935865e-01, 3.98335987e-13, 7.16202514e-11,\n",
       "        1.22873465e-11, 3.48568319e-05, 2.25341329e-10, 4.82502685e-07,\n",
       "        1.39513145e-09, 6.32911252e-08, 3.19967164e-08, 6.41399511e-09,\n",
       "        1.66227813e-11, 6.70627789e-12, 7.24089844e-10, 2.41703723e-11,\n",
       "        1.88450991e-11, 2.57415884e-08, 9.07723341e-11, 2.63638844e-09,\n",
       "        9.06146624e-09, 1.05687768e-05, 9.41548173e-09, 1.08508122e-14,\n",
       "        3.45956472e-08, 4.00117528e-07, 2.60847149e-10, 7.39452673e-07,\n",
       "        4.91125629e-09, 1.26948729e-09, 9.17096787e-10, 3.83409342e-13,\n",
       "        1.34623937e-10, 3.30635042e-12, 2.27890751e-09, 6.86694701e-09,\n",
       "        1.87390879e-06, 7.16384618e-10, 1.68440906e-07, 1.38508793e-09,\n",
       "        1.91940217e-07, 1.91588412e-12, 1.70661499e-12, 1.89944167e-08,\n",
       "        1.59158082e-12, 2.80223095e-10, 9.23050891e-07, 6.28760377e-11,\n",
       "        1.89273219e-09, 3.13078702e-10, 4.03755675e-12, 1.03933133e-10,\n",
       "        4.63944334e-11, 9.41383776e-11, 3.03043007e-11, 4.60440158e-11,\n",
       "        2.41952698e-08, 3.41399407e-08, 2.08560544e-10, 6.27737933e-08,\n",
       "        1.09525696e-11, 2.01511897e-12, 2.86225426e-08, 8.78998890e-07,\n",
       "        2.21443586e-10, 1.91998334e-10, 2.46288351e-07, 1.54404020e-07,\n",
       "        7.80905829e-09, 6.05651218e-09, 1.57343610e-10, 3.21994875e-08,\n",
       "        2.28551386e-10, 1.55083349e-10, 1.82868498e-10, 5.60067726e-08,\n",
       "        5.43713095e-11, 3.02254293e-08, 1.10712016e-10, 1.43642438e-07,\n",
       "        1.94762107e-13, 1.03248796e-08]], dtype=float32)"
      ]
     },
     "execution_count": 101,
     "metadata": {},
     "output_type": "execute_result"
    }
   ],
   "source": [
    "res"
   ]
  },
  {
   "cell_type": "code",
   "execution_count": 104,
   "id": "varied-pattern",
   "metadata": {},
   "outputs": [],
   "source": [
    "img = Image.open(\"knm.jpg\")"
   ]
  },
  {
   "cell_type": "code",
   "execution_count": 108,
   "id": "stone-secretariat",
   "metadata": {},
   "outputs": [
    {
     "data": {
      "text/plain": [
       "(1, 224, 224, 3)"
      ]
     },
     "execution_count": 108,
     "metadata": {},
     "output_type": "execute_result"
    }
   ],
   "source": [
    "img_resized = img.resize((224, 224))\n",
    "# img_resized.show()\n",
    "img_arr = np.asarray(img_resized).astype(np.float32)/255\n",
    "\n",
    "inp = np.expand_dims(img_arr, axis=0)\n",
    "inp.shape"
   ]
  },
  {
   "cell_type": "code",
   "execution_count": 110,
   "id": "requested-guitar",
   "metadata": {},
   "outputs": [
    {
     "data": {
      "text/plain": [
       "135"
      ]
     },
     "execution_count": 110,
     "metadata": {},
     "output_type": "execute_result"
    }
   ],
   "source": [
    "res = model.predict(inp)\n",
    "res.argmax()"
   ]
  },
  {
   "cell_type": "code",
   "execution_count": null,
   "id": "stunning-candy",
   "metadata": {},
   "outputs": [],
   "source": []
  }
 ],
 "metadata": {
  "kernelspec": {
   "display_name": "Python 3",
   "language": "python",
   "name": "python3"
  },
  "language_info": {
   "codemirror_mode": {
    "name": "ipython",
    "version": 3
   },
   "file_extension": ".py",
   "mimetype": "text/x-python",
   "name": "python",
   "nbconvert_exporter": "python",
   "pygments_lexer": "ipython3",
   "version": "3.7.10"
  }
 },
 "nbformat": 4,
 "nbformat_minor": 5
}
