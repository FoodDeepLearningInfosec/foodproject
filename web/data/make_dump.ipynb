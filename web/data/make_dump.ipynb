{
 "metadata": {
  "language_info": {
   "codemirror_mode": {
    "name": "ipython",
    "version": 3
   },
   "file_extension": ".py",
   "mimetype": "text/x-python",
   "name": "python",
   "nbconvert_exporter": "python",
   "pygments_lexer": "ipython3",
   "version": "3.8.5-final"
  },
  "orig_nbformat": 2,
  "kernelspec": {
   "name": "python385jvsc74a57bd06d46af94c2bbce495f1e668725902fa517c90b1782bcfe2fce0dd9868df553d3",
   "display_name": "Python 3.8.5 64-bit (conda)"
  }
 },
 "nbformat": 4,
 "nbformat_minor": 2,
 "cells": [
  {
   "cell_type": "code",
   "execution_count": 17,
   "metadata": {},
   "outputs": [
    {
     "output_type": "execute_result",
     "data": {
      "text/plain": [
       "Index(['Unnamed: 0', '_id', 'INFO_WGT', 'MANUAL01', 'MANUAL02', 'INFO_ENG',\n",
       "       'MANUAL03', 'MANUAL04', 'MANUAL05', 'ATT_FILE_NO_MK', 'MANUAL06',\n",
       "       'MANUAL07', 'MANUAL08', 'MANUAL09', 'RCP_PARTS_DTLS', 'MANUAL_IMG01',\n",
       "       'INFO_PRO', 'RCP_NM', 'MANUAL11', 'MANUAL_IMG03', 'MANUAL12',\n",
       "       'INFO_CAR', 'MANUAL_IMG02', 'MANUAL_IMG05', 'MANUAL10', 'MANUAL_IMG04',\n",
       "       'RCP_WAY2', 'MANUAL15', 'MANUAL16', 'MANUAL13', 'MANUAL14', 'MANUAL19',\n",
       "       'MANUAL17', 'MANUAL18', 'RCP_PAT2', 'HASH_TAG', 'MANUAL_IMG06',\n",
       "       'MANUAL_IMG07', 'MANUAL_IMG08', 'MANUAL_IMG09', 'RCP_SEQ',\n",
       "       'MANUAL_IMG16', 'MANUAL_IMG15', 'MANUAL_IMG14', 'MANUAL_IMG13',\n",
       "       'MANUAL_IMG12', 'MANUAL_IMG11', 'MANUAL_IMG10', 'MANUAL20',\n",
       "       'MANUAL_IMG19', 'MANUAL_IMG17', 'MANUAL_IMG18', 'ATT_FILE_NO_MAIN',\n",
       "       'MANUAL_IMG20', 'INFO_NA', 'INFO_FAT'],\n",
       "      dtype='object')"
      ]
     },
     "metadata": {},
     "execution_count": 17
    }
   ],
   "source": [
    "import pandas as pd\n",
    "\n",
    "food_df = pd.read_csv('recipe_db.csv', encoding='utf-8')\n",
    "food_df.columns"
   ]
  },
  {
   "cell_type": "code",
   "execution_count": 2,
   "metadata": {},
   "outputs": [
    {
     "output_type": "stream",
     "name": "stdout",
     "text": [
      "['갈비구이', '갈치구이', '고등어구이', '곱창구이', '닭갈비', '더덕구이', '떡갈비', '불고기', '삼겹살', '장어구이', '조개구이', '조기구이', '황태구이', '훈제오리', '계란국', '떡국_만두국', '무국', '미역국', '북엇국', '시래기국', '육개장', '콩나물국', '과메기', '양념치킨', '젓갈', '콩자반', '편육', '피자', '후라이드치킨', '갓김치', '깍두기', '나박김치', '무생채', '배추김치', '백김치', '부추김치', '열무김치', '오이소박이', '총각김치', '파김치', '가지볶음', '고사리나물', '미역줄기볶음', '숙주나물', '시금치나물', '애호박볶음', '경단', '꿀떡', '송편', '만두', '라면', '막국수', '물냉면', '비빔냉면', '수제비', '열무국수', '잔치국수', '짜장면', '짬뽕', '쫄면', '칼국수', '콩국수', '꽈리고추무침', '도라지무침', '도토리묵', '잡채', '콩나물무침', '홍어무침', '회무침', '김밥', '김치볶음밥', '누룽지', '비빔밥', '새우볶음밥', '알밥', '유부초밥', '잡곡밥', '주먹밥', '감자채볶음', '건새우볶음', '고추장진미채볶음', '두부김치', '떡볶이', '라볶이', '멸치볶음', '소세지볶음', '어묵볶음', '오징어채볶음', '제육볶음', '주꾸미볶음', '보쌈', '수정과', '식혜', '간장게장', '양념게장', '깻잎장아찌', '떡꼬치', '감자전', '계란말이', '계란후라이', '김치전', '동그랑땡', '생선전', '파전', '호박전', '곱창전골', '갈치조림', '감자조림', '고등어조림', '꽁치조림', '두부조림', '땅콩조림', '메추리알장조림', '연근조림', '우엉조림', '장조림', '코다리조림', '전복죽', '호박죽', '김치찌개', '닭계장', '동태찌개', '된장찌개', '순두부찌개', '갈비찜', '계란찜', '김치찜', '꼬막찜', '닭볶음탕', '수육', '순대', '족발', '찜닭', '해물찜', '갈비탕', '감자탕', '곰탕_설렁탕', '매운탕', '삼계탕', '추어탕', '고추튀김', '새우튀김', '오징어튀김', '약과', '약식', '한과', '멍게', '산낙지', '물회', '육회']\n"
     ]
    }
   ],
   "source": [
    "# 1. 로컬에서 파일 목록 읽어오기.\n",
    "import os\n",
    "\n",
    "path = 'C:/Users/user/Downloads/kfood'\n",
    "file_lst = os.listdir(path)\n",
    "food_dict = dict()\n",
    "for lg_food in file_lst:\n",
    "    sm_food = os.listdir(path+f'/{lg_food}/{lg_food}')\n",
    "    for food in sm_food:\n",
    "        food_dict[food] = 0\n",
    "food_dict\n",
    "len(food_dict)\n",
    "food_lst = []\n",
    "for food in food_dict.keys():\n",
    "    # if '_' in \n",
    "    food_lst.append(food)\n",
    "print(food_lst)"
   ]
  },
  {
   "cell_type": "code",
   "execution_count": 7,
   "metadata": {},
   "outputs": [
    {
     "output_type": "stream",
     "name": "stdout",
     "text": [
      "<OpenAPI_ServiceResponse>\n\t<cmmMsgHeader>\n\t\t<errMsg>SERVICE ERROR</errMsg>\n\t\t<returnAuthMsg>SERVICE_KEY_IS_NOT_REGISTERED_ERROR</returnAuthMsg>\n\t\t<returnReasonCode>30</returnReasonCode>\n\t</cmmMsgHeader>\n</OpenAPI_ServiceResponse>\nhttp://apis.data.go.kr/B551553/TradFoodInfoService/getFoodCateogryList?ServiceKey=cUrXjCod9NLhb2dpkxgVyG0Yc0KPGFKFDGyfN5StAQ2qJQVBDM7g0e64CxRoYXW5hYfKu5muWtCVSxeY0p3kCg%253D%253D&pageNo=1&numOfRows=10&type=JSON\n200\n"
     ]
    }
   ],
   "source": [
    "\n",
    "import requests, json\n",
    "from decouple import config\n",
    "from urllib.parse import urlencode, quote_plus\n",
    "\n",
    "k = config('foodKey')\n",
    "# k='cUrXjCod9NLhb2dpkxgVyG0Yc0KPGFKFDGyfN5StAQ2qJQVBDM7g0e64CxRoYXW5hYfKu5muWtCVSxeY0p3kCg%3D%3D'\n",
    "url = 'https://tradifood.net/api/service/TradFoodInfoService/getFoodCateogryList'\n",
    "url = 'http://apis.data.go.kr/B551553/TradFoodInfoService/getFoodCateogryList'\n",
    "# url = 'http://apis.data.go.kr/B551553/TradFoodInfoService'\n",
    "param = {\n",
    "    'ServiceKey':k,\n",
    "    'pageNo': 1,\n",
    "    'numOfRows': 10,\n",
    "    'type':'JSON',\n",
    "}\n",
    "# queryParams = '?' + urlencode({ quote_plus('ServiceKey') : k, quote_plus('pageNo') : '1', quote_plus('numOfRows') : '10', quote_plus('type') : 'JSON' })\n",
    "# url = url+queryParams\n",
    "# http = urllib3.poolmanager()\n",
    "# res = http.request('GET', url)\n",
    "res = requests.get(url, params=param, verify=False)\n",
    "print(res.text)\n",
    "# print(res.headers)\n",
    "print(res.url)\n",
    "print(res.status_code)"
   ]
  }
 ]
}